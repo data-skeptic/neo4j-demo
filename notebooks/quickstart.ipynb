{
 "cells": [
  {
   "cell_type": "code",
   "execution_count": 1,
   "id": "5c790c11",
   "metadata": {},
   "outputs": [
    {
     "name": "stdout",
     "output_type": "stream",
     "text": [
      "<Record n=<Node element_id='4:ca41dbad-5021-46c8-98bb-c521b336b04e:0' labels=frozenset({'Person'}) properties={'name': 'Alice', 'age': 30}>>\n",
      "<Record n=<Node element_id='4:ca41dbad-5021-46c8-98bb-c521b336b04e:1' labels=frozenset({'Person'}) properties={'name': 'Bob', 'age': 25}>>\n",
      "<Record n=<Node element_id='4:ca41dbad-5021-46c8-98bb-c521b336b04e:2' labels=frozenset({'Person'}) properties={'name': 'Charlie', 'age': 35}>>\n",
      "<Record n=<Node element_id='4:ca41dbad-5021-46c8-98bb-c521b336b04e:3' labels=frozenset({'Station'}) properties={'latitude': -87.74919253254365, 'name': 'Oakton-Skokie', 'longitude': 'Yellow Line'}>>\n",
      "<Record n=<Node element_id='4:ca41dbad-5021-46c8-98bb-c521b336b04e:4' labels=frozenset({'Station'}) properties={'latitude': -87.67625887027687, 'name': 'Howard', 'longitude': 'Yellow Line'}>>\n",
      "<Record n=<Node element_id='4:ca41dbad-5021-46c8-98bb-c521b336b04e:5' labels=frozenset({'Station'}) properties={'latitude': -87.7357419301787, 'name': 'Pulaski-Midway', 'longitude': 'Orange Line'}>>\n",
      "<Record n=<Node element_id='4:ca41dbad-5021-46c8-98bb-c521b336b04e:6' labels=frozenset({'Station'}) properties={'latitude': -87.69314343183936, 'name': 'Kedzie-Midway', 'longitude': 'Orange Line'}>>\n",
      "<Record n=<Node element_id='4:ca41dbad-5021-46c8-98bb-c521b336b04e:7' labels=frozenset({'Station'}) properties={'latitude': -87.71572826769936, 'name': \"Belmont-O'Hare\", 'longitude': \"Blue Line (O'Hare)\"}>>\n",
      "<Record n=<Node element_id='4:ca41dbad-5021-46c8-98bb-c521b336b04e:8' labels=frozenset({'Station'}) properties={'latitude': -87.70407967876038, 'name': 'Logan Square', 'longitude': \"Blue Line (O'Hare)\"}>>\n",
      "<Record n=<Node element_id='4:ca41dbad-5021-46c8-98bb-c521b336b04e:9' labels=frozenset({'Station'}) properties={'latitude': -87.71294296954228, 'name': 'Kedzie-Homan', 'longitude': 'Blue Line (Forest Park)'}>>\n",
      "<Record n=<Node element_id='4:ca41dbad-5021-46c8-98bb-c521b336b04e:10' labels=frozenset({'Station'}) properties={'latitude': -87.68204849772572, 'name': 'Western-Congress', 'longitude': 'Blue Line (Forest Park)'}>>\n",
      "<Record n=<Node element_id='4:ca41dbad-5021-46c8-98bb-c521b336b04e:11' labels=frozenset({'Station'}) properties={'latitude': -87.66819556561138, 'name': 'Paulina Junction', 'longitude': 'Pink Line'}>>\n",
      "<Record n=<Node element_id='4:ca41dbad-5021-46c8-98bb-c521b336b04e:12' labels=frozenset({'Station'}) properties={'latitude': -87.66937155411249, 'name': 'Polk', 'longitude': 'Pink Line'}>>\n",
      "<Record n=<Node element_id='4:ca41dbad-5021-46c8-98bb-c521b336b04e:13' labels=frozenset({'Station'}) properties={'latitude': -87.67138030752572, 'name': 'Division/Milwaukee', 'longitude': \"Blue Line (O'Hare)\"}>>\n",
      "<Record n=<Node element_id='4:ca41dbad-5021-46c8-98bb-c521b336b04e:14' labels=frozenset({'Station'}) properties={'latitude': -87.65163544728097, 'name': 'Chicago/Milwaukee', 'longitude': \"Blue Line (O'Hare)\"}>>\n",
      "<Record n=<Node element_id='4:ca41dbad-5021-46c8-98bb-c521b336b04e:15' labels=frozenset({'Station'}) properties={'latitude': -87.6534189848212, 'name': 'Belmont-North Main', 'longitude': 'Brown, Purple (Express), Red'}>>\n",
      "<Record n=<Node element_id='4:ca41dbad-5021-46c8-98bb-c521b336b04e:16' labels=frozenset({'Station'}) properties={'latitude': -87.65320289373939, 'name': 'Wellington', 'longitude': 'Brown, Purple (Express), Red'}>>\n",
      "<Record n=<Node element_id='4:ca41dbad-5021-46c8-98bb-c521b336b04e:17' labels=frozenset({'Station'}) properties={'latitude': -87.67505328553142, 'name': 'Irving Park-Ravenswood', 'longitude': 'Brown Line'}>>\n",
      "<Record n=<Node element_id='4:ca41dbad-5021-46c8-98bb-c521b336b04e:18' labels=frozenset({'Station'}) properties={'latitude': -87.67362795327178, 'name': 'Addison-Ravenswood', 'longitude': 'Brown Line'}>>\n",
      "<Record n=<Node element_id='4:ca41dbad-5021-46c8-98bb-c521b336b04e:19' labels=frozenset({'Station'}) properties={'latitude': -87.67107312011272, 'name': 'Jarvis', 'longitude': 'Red, Purple Line'}>>\n",
      "<Record n=<Node element_id='4:ca41dbad-5021-46c8-98bb-c521b336b04e:20' labels=frozenset({'Station'}) properties={'latitude': -87.66403278254828, 'name': 'Morse', 'longitude': 'Red, Purple Line'}>>\n",
      "<Record n=<Node element_id='4:ca41dbad-5021-46c8-98bb-c521b336b04e:21' labels=frozenset({'Station'}) properties={'latitude': -87.63095648969231, 'name': 'Cermak-Chinatown', 'longitude': 'Red Line'}>>\n",
      "<Record n=<Node element_id='4:ca41dbad-5021-46c8-98bb-c521b336b04e:22' labels=frozenset({'Station'}) properties={'latitude': -87.62746337617698, 'name': 'Roosevelt/State', 'longitude': 'Red Line'}>>\n",
      "<Record n=<Node element_id='4:ca41dbad-5021-46c8-98bb-c521b336b04e:23' labels=frozenset({'Station'}) properties={'latitude': -87.65608309838089, 'name': 'UIC-Halsted', 'longitude': \"Blue Line (O'Hare)\"}>>\n",
      "<Record n=<Node element_id='4:ca41dbad-5021-46c8-98bb-c521b336b04e:24' labels=frozenset({'Station'}) properties={'latitude': -87.63591340985244, 'name': 'Clinton-Congress', 'longitude': \"Blue Line (O'Hare)\"}>>\n",
      "<Record n=<Node element_id='4:ca41dbad-5021-46c8-98bb-c521b336b04e:25' labels=frozenset({'Station'}) properties={'latitude': -87.62765202803897, 'name': 'Jackson/State', 'longitude': 'Red Line'}>>\n",
      "<Record n=<Node element_id='4:ca41dbad-5021-46c8-98bb-c521b336b04e:26' labels=frozenset({'Station'}) properties={'latitude': -87.62746337617698, 'name': 'Harrison', 'longitude': 'Red Line'}>>\n",
      "<Record n=<Node element_id='4:ca41dbad-5021-46c8-98bb-c521b336b04e:27' labels=frozenset({'Station'}) properties={'latitude': -87.63693289378533, 'name': 'Chicago/Franklin', 'longitude': 'Brown, Purple'}>>\n",
      "<Record n=<Node element_id='4:ca41dbad-5021-46c8-98bb-c521b336b04e:28' labels=frozenset({'Station'}) properties={'latitude': -87.63395314632903, 'name': 'Merchandise Mart', 'longitude': 'Brown, Purple'}>>\n",
      "<Record n=<Node element_id='4:ca41dbad-5021-46c8-98bb-c521b336b04e:29' labels=frozenset({'Station'}) properties={'latitude': -87.62977132594706, 'name': 'Clark/Lake', 'longitude': 'Brown, Green, Orange, Pink, Purple (Exp)'}>>\n",
      "<Record n=<Node element_id='4:ca41dbad-5021-46c8-98bb-c521b336b04e:30' labels=frozenset({'Station'}) properties={'latitude': -87.62651540657565, 'name': 'State/Lake', 'longitude': 'Brown, Green, Orange, Pink, Purple (Exp)'}>>\n",
      "<Record n=<Node element_id='4:ca41dbad-5021-46c8-98bb-c521b336b04e:31' labels=frozenset({'Station'}) properties={'latitude': -87.65257729864435, 'name': 'Subway Portal B', 'longitude': 'Red Line'}>>\n",
      "<Record n=<Node element_id='4:ca41dbad-5021-46c8-98bb-c521b336b04e:32' labels=frozenset({'Station'}) properties={'latitude': -87.64029670253865, 'name': 'North/Clybourn', 'longitude': 'Red Line'}>>\n",
      "<Record n=<Node element_id='4:ca41dbad-5021-46c8-98bb-c521b336b04e:33' labels=frozenset({'Station'}) properties={'latitude': -87.62492293341795, 'name': '79th', 'longitude': 'Red Line'}>>\n",
      "<Record n=<Node element_id='4:ca41dbad-5021-46c8-98bb-c521b336b04e:34' labels=frozenset({'Station'}) properties={'latitude': -87.62794220448173, 'name': '69th', 'longitude': 'Red Line'}>>\n",
      "<Record n=<Node element_id='4:ca41dbad-5021-46c8-98bb-c521b336b04e:35' labels=frozenset({'Station'}) properties={'latitude': -87.61892959513655, 'name': '43rd', 'longitude': 'Green Line'}>>\n",
      "<Record n=<Node element_id='4:ca41dbad-5021-46c8-98bb-c521b336b04e:36' labels=frozenset({'Station'}) properties={'latitude': -87.62506275597973, 'name': 'Indiana', 'longitude': 'Green Line'}>>\n",
      "<Record n=<Node element_id='4:ca41dbad-5021-46c8-98bb-c521b336b04e:37' labels=frozenset({'Station'}) properties={'latitude': -87.75886314538725, 'name': 'Laramie', 'longitude': 'Green Line'}>>\n",
      "<Record n=<Node element_id='4:ca41dbad-5021-46c8-98bb-c521b336b04e:38' labels=frozenset({'Station'}) properties={'latitude': -87.73420295330818, 'name': 'Cicero-Lake', 'longitude': 'Green Line'}>>\n",
      "<Record n=<Node element_id='4:ca41dbad-5021-46c8-98bb-c521b336b04e:39' labels=frozenset({'Station'}) properties={'latitude': -87.72817249018173, 'name': 'Pulaski-Douglas', 'longitude': 'Pink Line'}>>\n",
      "<Record n=<Node element_id='4:ca41dbad-5021-46c8-98bb-c521b336b04e:40' labels=frozenset({'Station'}) properties={'latitude': -87.71003195565568, 'name': 'Central Park', 'longitude': 'Pink Line'}>>\n",
      "<Record n=<Node element_id='4:ca41dbad-5021-46c8-98bb-c521b336b04e:41' labels=frozenset({'Station'}) properties={'latitude': -87.71230175234707, 'name': 'Kimball', 'longitude': 'Brown Line'}>>\n",
      "<Record n=<Node element_id='4:ca41dbad-5021-46c8-98bb-c521b336b04e:42' labels=frozenset({'Station'}) properties={'latitude': -87.7052120799941, 'name': 'Kedzie-Ravenswood', 'longitude': 'Brown Line'}>>\n",
      "<Record n=<Node element_id='4:ca41dbad-5021-46c8-98bb-c521b336b04e:43' labels=frozenset({'Station'}) properties={'latitude': -87.68243850188607, 'name': 'Western-Midway', 'longitude': 'Orange Line'}>>\n",
      "<Record n=<Node element_id='4:ca41dbad-5021-46c8-98bb-c521b336b04e:44' labels=frozenset({'Station'}) properties={'latitude': -87.69076133192996, 'name': 'Western-Ravenswood', 'longitude': 'Brown Line'}>>\n",
      "<Record n=<Node element_id='4:ca41dbad-5021-46c8-98bb-c521b336b04e:45' labels=frozenset({'Station'}) properties={'latitude': -87.67604417096673, 'name': 'Damen-Ravenswood', 'longitude': 'Brown Line'}>>\n",
      "<Record n=<Node element_id='4:ca41dbad-5021-46c8-98bb-c521b336b04e:46' labels=frozenset({'Station'}) properties={'latitude': -87.66819556561138, 'name': 'Ashland-Lake', 'longitude': 'Green, Pink'}>>\n",
      "<Record n=<Node element_id='4:ca41dbad-5021-46c8-98bb-c521b336b04e:47' labels=frozenset({'Station'}) properties={'latitude': -87.6473026853828, 'name': 'Morgan', 'longitude': 'Green, Pink'}>>\n",
      "<Record n=<Node element_id='4:ca41dbad-5021-46c8-98bb-c521b336b04e:48' labels=frozenset({'Station'}) properties={'latitude': -87.67604417096673, 'name': 'Montrose-Ravenswood', 'longitude': 'Brown Line'}>>\n",
      "<Record n=<Node element_id='4:ca41dbad-5021-46c8-98bb-c521b336b04e:49' labels=frozenset({'Station'}) properties={'latitude': -87.63108080725978, 'name': 'Garfield-Dan Ryan', 'longitude': 'Red Line'}>>\n",
      "<Record n=<Node element_id='4:ca41dbad-5021-46c8-98bb-c521b336b04e:50' labels=frozenset({'Station'}) properties={'latitude': -87.63040771089304, 'name': '47th-Dan Ryan', 'longitude': 'Red Line'}>>\n",
      "<Record n=<Node element_id='4:ca41dbad-5021-46c8-98bb-c521b336b04e:51' labels=frozenset({'Station'}) properties={'latitude': -87.65426099270495, 'name': 'Halsted-Midway', 'longitude': 'Orange Line'}>>\n",
      "<Record n=<Node element_id='4:ca41dbad-5021-46c8-98bb-c521b336b04e:52' labels=frozenset({'Station'}) properties={'latitude': -87.62644587798265, 'name': '17th Junction', 'longitude': 'Orange Line'}>>\n",
      "<Record n=<Node element_id='4:ca41dbad-5021-46c8-98bb-c521b336b04e:53' labels=frozenset({'Station'}) properties={'latitude': -87.6338910082031, 'name': 'Tower 18', 'longitude': 'Brown, Green, Orange, Pink, Purple (Exp)'}>>\n",
      "<Record n=<Node element_id='4:ca41dbad-5021-46c8-98bb-c521b336b04e:54' labels=frozenset({'Station'}) properties={'latitude': -87.62809664347918, 'name': 'Grand/State', 'longitude': 'Red Line'}>>\n",
      "<Record n=<Node element_id='4:ca41dbad-5021-46c8-98bb-c521b336b04e:55' labels=frozenset({'Station'}) properties={'latitude': -87.6277584857096, 'name': 'Lake/State', 'longitude': 'Red Line'}>>\n",
      "<Record n=<Node element_id='4:ca41dbad-5021-46c8-98bb-c521b336b04e:56' labels=frozenset({'Station'}) properties={'latitude': -87.62882580114704, 'name': 'Clark/Division', 'longitude': 'Red Line'}>>\n",
      "<Record n=<Node element_id='4:ca41dbad-5021-46c8-98bb-c521b336b04e:57' labels=frozenset({'Station'}) properties={'latitude': -87.77940760532844, 'name': 'Jefferson Park', 'longitude': \"Blue Line (O'Hare)\"}>>\n",
      "<Record n=<Node element_id='4:ca41dbad-5021-46c8-98bb-c521b336b04e:58' labels=frozenset({'Station'}) properties={'latitude': -87.73902760889078, 'name': \"Montrose-O'Hare\", 'longitude': \"Blue Line (O'Hare)\"}>>\n",
      "<Record n=<Node element_id='4:ca41dbad-5021-46c8-98bb-c521b336b04e:59' labels=frozenset({'Station'}) properties={'latitude': -87.71003195565568, 'name': 'Kedzie-Douglas', 'longitude': 'Pink Line'}>>\n",
      "<Record n=<Node element_id='4:ca41dbad-5021-46c8-98bb-c521b336b04e:60' labels=frozenset({'Station'}) properties={'latitude': -87.6895117659396, 'name': 'California-Douglas', 'longitude': 'Pink Line'}>>\n",
      "<Record n=<Node element_id='4:ca41dbad-5021-46c8-98bb-c521b336b04e:61' labels=frozenset({'Station'}) properties={'latitude': -87.70195475313736, 'name': 'California-Lake', 'longitude': 'Green Line'}>>\n",
      "<Record n=<Node element_id='4:ca41dbad-5021-46c8-98bb-c521b336b04e:62' labels=frozenset({'Station'}) properties={'latitude': -87.69806180077974, 'name': 'Rockwell', 'longitude': 'Brown Line'}>>\n",
      "<Record n=<Node element_id='4:ca41dbad-5021-46c8-98bb-c521b336b04e:63' labels=frozenset({'Station'}) properties={'latitude': -87.67015808258446, 'name': '18th', 'longitude': 'Pink Line'}>>\n",
      "<Record n=<Node element_id='4:ca41dbad-5021-46c8-98bb-c521b336b04e:64' labels=frozenset({'Station'}) properties={'latitude': -87.66375408038127, 'name': 'Racine', 'longitude': \"Blue Line (O'Hare)\"}>>\n",
      "<Record n=<Node element_id='4:ca41dbad-5021-46c8-98bb-c521b336b04e:65' labels=frozenset({'Station'}) properties={'latitude': -87.65830813925162, 'name': 'Wilson', 'longitude': 'Red, Purple Line'}>>\n",
      "<Record n=<Node element_id='4:ca41dbad-5021-46c8-98bb-c521b336b04e:66' labels=frozenset({'Station'}) properties={'latitude': -87.65385104548236, 'name': 'Sheridan', 'longitude': 'Red, Purple Line'}>>\n",
      "<Record n=<Node element_id='4:ca41dbad-5021-46c8-98bb-c521b336b04e:67' labels=frozenset({'Station'}) properties={'latitude': -87.65066112326743, 'name': 'Halsted/63rd', 'longitude': 'Green Line'}>>\n",
      "<Record n=<Node element_id='4:ca41dbad-5021-46c8-98bb-c521b336b04e:68' labels=frozenset({'Station'}) properties={'latitude': -87.61760578908596, 'name': '59th Junction', 'longitude': 'Green Line'}>>\n",
      "<Record n=<Node element_id='4:ca41dbad-5021-46c8-98bb-c521b336b04e:69' labels=frozenset({'Station'}) properties={'latitude': -87.62663997071158, 'name': 'Library', 'longitude': 'Brown, Orange, Pink, Purple (Express)'}>>\n",
      "<Record n=<Node element_id='4:ca41dbad-5021-46c8-98bb-c521b336b04e:70' labels=frozenset({'Station'}) properties={'latitude': -87.63331197883412, 'name': 'LaSalle/Van Buren', 'longitude': 'Brown, Orange, Pink, Purple (Express)'}>>\n",
      "<Record n=<Node element_id='4:ca41dbad-5021-46c8-98bb-c521b336b04e:71' labels=frozenset({'Station'}) properties={'latitude': -87.62651443444896, 'name': 'Roosevelt/Wabash', 'longitude': 'Green, Orange'}>>\n",
      "<Record n=<Node element_id='4:ca41dbad-5021-46c8-98bb-c521b336b04e:72' labels=frozenset({'Station'}) properties={'latitude': -87.6260663249338, 'name': 'Tower 12', 'longitude': 'Green, Orange'}>>\n",
      "<Record n=<Node element_id='4:ca41dbad-5021-46c8-98bb-c521b336b04e:73' labels=frozenset({'Station'}) properties={'latitude': -87.63787454192575, 'name': 'Clinton-Lake', 'longitude': 'Green, Pink'}>>\n",
      "<Record n=<Node element_id='4:ca41dbad-5021-46c8-98bb-c521b336b04e:74' labels=frozenset({'Station'}) properties={'latitude': -87.79991946212273, 'name': 'Oak Park-Congress', 'longitude': 'Blue Line (Forest Park)'}>>\n",
      "<Record n=<Node element_id='4:ca41dbad-5021-46c8-98bb-c521b336b04e:75' labels=frozenset({'Station'}) properties={'latitude': -87.76230425197377, 'name': 'Austin-Congress', 'longitude': 'Blue Line (Forest Park)'}>>\n",
      "<Record n=<Node element_id='4:ca41dbad-5021-46c8-98bb-c521b336b04e:76' labels=frozenset({'Station'}) properties={'latitude': -87.7984447896395, 'name': 'Harlem-Lake', 'longitude': 'Green Line'}>>\n",
      "<Record n=<Node element_id='4:ca41dbad-5021-46c8-98bb-c521b336b04e:77' labels=frozenset({'Station'}) properties={'latitude': -87.78866729913625, 'name': 'Oak Park-Lake', 'longitude': 'Green Line'}>>\n",
      "<Record n=<Node element_id='4:ca41dbad-5021-46c8-98bb-c521b336b04e:78' labels=frozenset({'Station'}) properties={'latitude': -87.82178886865803, 'name': \"Harlem-O'Hare\", 'longitude': \"Blue Line (O'Hare)\"}>>\n",
      "<Record n=<Node element_id='4:ca41dbad-5021-46c8-98bb-c521b336b04e:79' labels=frozenset({'Station'}) properties={'latitude': -87.77870079234583, 'name': 'Austin-Lake', 'longitude': 'Green Line'}>>\n",
      "<Record n=<Node element_id='4:ca41dbad-5021-46c8-98bb-c521b336b04e:80' labels=frozenset({'Station'}) properties={'latitude': -87.75886314538725, 'name': 'Central-Lake', 'longitude': 'Green Line'}>>\n",
      "<Record n=<Node element_id='4:ca41dbad-5021-46c8-98bb-c521b336b04e:81' labels=frozenset({'Station'}) properties={'latitude': -87.75084936460017, 'name': '54/Cermak', 'longitude': 'Pink Line'}>>\n",
      "<Record n=<Node element_id='4:ca41dbad-5021-46c8-98bb-c521b336b04e:82' labels=frozenset({'Station'}) properties={'latitude': -87.7369993951692, 'name': 'Cicero-Douglas', 'longitude': 'Pink Line'}>>\n",
      "<Record n=<Node element_id='4:ca41dbad-5021-46c8-98bb-c521b336b04e:83' labels=frozenset({'Station'}) properties={'latitude': -87.72223140293237, 'name': \"Irving Park-O'Hare\", 'longitude': \"Blue Line (O'Hare)\"}>>\n",
      "<Record n=<Node element_id='4:ca41dbad-5021-46c8-98bb-c521b336b04e:84' labels=frozenset({'Station'}) properties={'latitude': -87.67129660752907, 'name': 'Illinois Medical District', 'longitude': 'Blue Line (Forest Park)'}>>\n",
      "<Record n=<Node element_id='4:ca41dbad-5021-46c8-98bb-c521b336b04e:85' labels=frozenset({'Station'}) properties={'latitude': -87.69168820858884, 'name': 'Western/Milwaukee', 'longitude': \"Blue Line (O'Hare)\"}>>\n",
      "<Record n=<Node element_id='4:ca41dbad-5021-46c8-98bb-c521b336b04e:86' labels=frozenset({'Station'}) properties={'latitude': -87.67138030752572, 'name': 'Damen/Milwaukee', 'longitude': \"Blue Line (O'Hare)\"}>>\n",
      "<Record n=<Node element_id='4:ca41dbad-5021-46c8-98bb-c521b336b04e:87' labels=frozenset({'Station'}) properties={'latitude': -87.66375408038127, 'name': 'Loomis Junction', 'longitude': 'Blue Line (Forest Park)'}>>\n",
      "<Record n=<Node element_id='4:ca41dbad-5021-46c8-98bb-c521b336b04e:88' labels=frozenset({'Station'}) properties={'latitude': -87.64014166658279, 'name': 'Grand/Milwaukee', 'longitude': \"Blue Line (O'Hare)\"}>>\n",
      "<Record n=<Node element_id='4:ca41dbad-5021-46c8-98bb-c521b336b04e:89' labels=frozenset({'Station'}) properties={'latitude': -87.66705438610194, 'name': 'Paulina', 'longitude': 'Brown Line'}>>\n",
      "<Record n=<Node element_id='4:ca41dbad-5021-46c8-98bb-c521b336b04e:90' labels=frozenset({'Station'}) properties={'latitude': -87.65504209231534, 'name': 'Southport', 'longitude': 'Brown Line'}>>\n",
      "<Record n=<Node element_id='4:ca41dbad-5021-46c8-98bb-c521b336b04e:91' labels=frozenset({'Station'}) properties={'latitude': -87.65320289373939, 'name': 'Diversey', 'longitude': 'Brown, Purple (Express), Red'}>>\n",
      "<Record n=<Node element_id='4:ca41dbad-5021-46c8-98bb-c521b336b04e:92' labels=frozenset({'Station'}) properties={'latitude': -87.65277143453118, 'name': 'Fullerton', 'longitude': 'Brown, Purple (Express), Red'}>>\n",
      "<Record n=<Node element_id='4:ca41dbad-5021-46c8-98bb-c521b336b04e:93' labels=frozenset({'Station'}) properties={'latitude': -87.65912812125299, 'name': 'Thorndale', 'longitude': 'Red, Purple Line'}>>\n",
      "<Record n=<Node element_id='4:ca41dbad-5021-46c8-98bb-c521b336b04e:94' labels=frozenset({'Station'}) properties={'latitude': -87.65875929085648, 'name': 'Bryn Mawr', 'longitude': 'Red, Purple Line'}>>\n",
      "<Record n=<Node element_id='4:ca41dbad-5021-46c8-98bb-c521b336b04e:95' labels=frozenset({'Station'}) properties={'latitude': -87.62933004247226, 'name': 'Jackson/Dearborn', 'longitude': \"Blue Line (O'Hare)\"}>>\n",
      "<Record n=<Node element_id='4:ca41dbad-5021-46c8-98bb-c521b336b04e:96' labels=frozenset({'Station'}) properties={'latitude': -87.63591340985244, 'name': 'LaSalle', 'longitude': \"Blue Line (O'Hare)\"}>>\n",
      "<Record n=<Node element_id='4:ca41dbad-5021-46c8-98bb-c521b336b04e:97' labels=frozenset({'Station'}) properties={'latitude': -87.62882580114704, 'name': 'Chicago/State', 'longitude': 'Red Line'}>>\n",
      "<Record n=<Node element_id='4:ca41dbad-5021-46c8-98bb-c521b336b04e:98' labels=frozenset({'Station'}) properties={'latitude': -87.61821950105747, 'name': 'Garfield-South Elevated', 'longitude': 'Green Line'}>>\n",
      "<Record n=<Node element_id='4:ca41dbad-5021-46c8-98bb-c521b336b04e:99' labels=frozenset({'Station'}) properties={'latitude': -87.61866279385026, 'name': '51st', 'longitude': 'Green Line'}>>\n",
      "<Record n=<Node element_id='4:ca41dbad-5021-46c8-98bb-c521b336b04e:100' labels=frozenset({'Station'}) properties={'latitude': -87.78866729913625, 'name': 'Ridgeland', 'longitude': 'Green Line'}>>\n",
      "<Record n=<Node element_id='4:ca41dbad-5021-46c8-98bb-c521b336b04e:101' labels=frozenset({'Station'}) properties={'latitude': -87.72817249018173, 'name': 'Kostner', 'longitude': 'Pink Line'}>>\n",
      "<Record n=<Node element_id='4:ca41dbad-5021-46c8-98bb-c521b336b04e:102' labels=frozenset({'Station'}) properties={'latitude': -87.76230425197377, 'name': 'Cicero-Congress', 'longitude': 'Blue Line (Forest Park)'}>>\n",
      "<Record n=<Node element_id='4:ca41dbad-5021-46c8-98bb-c521b336b04e:103' labels=frozenset({'Station'}) properties={'latitude': -87.71294296954228, 'name': 'Pulaski-Congress', 'longitude': 'Blue Line (Forest Park)'}>>\n",
      "<Record n=<Node element_id='4:ca41dbad-5021-46c8-98bb-c521b336b04e:104' labels=frozenset({'Station'}) properties={'latitude': -87.73420295330818, 'name': 'Pulaski-Lake', 'longitude': 'Green Line'}>>\n",
      "<Record n=<Node element_id='4:ca41dbad-5021-46c8-98bb-c521b336b04e:105' labels=frozenset({'Station'}) properties={'latitude': -87.71158677205754, 'name': 'Conservatory-Central Park', 'longitude': 'Green Line'}>>\n",
      "<Record n=<Node element_id='4:ca41dbad-5021-46c8-98bb-c521b336b04e:106' labels=frozenset({'Station'}) properties={'latitude': -87.72223140293237, 'name': \"Addison-O'Hare\", 'longitude': \"Blue Line (O'Hare)\"}>>\n",
      "<Record n=<Node element_id='4:ca41dbad-5021-46c8-98bb-c521b336b04e:107' labels=frozenset({'Station'}) properties={'latitude': -87.6895117659396, 'name': 'Western-Douglas', 'longitude': 'Pink Line'}>>\n",
      "<Record n=<Node element_id='4:ca41dbad-5021-46c8-98bb-c521b336b04e:108' labels=frozenset({'Station'}) properties={'latitude': -87.67015808258446, 'name': 'Damen', 'longitude': 'Pink Line'}>>\n",
      "<Record n=<Node element_id='4:ca41dbad-5021-46c8-98bb-c521b336b04e:109' labels=frozenset({'Station'}) properties={'latitude': -87.70407967876038, 'name': 'California/Milwaukee', 'longitude': \"Blue Line (O'Hare)\"}>>\n",
      "<Record n=<Node element_id='4:ca41dbad-5021-46c8-98bb-c521b336b04e:110' labels=frozenset({'Station'}) properties={'latitude': -87.68061133546098, 'name': 'Main', 'longitude': 'Purple Line'}>>\n",
      "<Record n=<Node element_id='4:ca41dbad-5021-46c8-98bb-c521b336b04e:111' labels=frozenset({'Station'}) properties={'latitude': -87.67625887027687, 'name': 'South Blvd.', 'longitude': 'Purple Line'}>>\n",
      "<Record n=<Node element_id='4:ca41dbad-5021-46c8-98bb-c521b336b04e:112' labels=frozenset({'Station'}) properties={'latitude': -87.68809300303968, 'name': 'Linden', 'longitude': 'Purple Line'}>>\n",
      "<Record n=<Node element_id='4:ca41dbad-5021-46c8-98bb-c521b336b04e:113' labels=frozenset({'Station'}) properties={'latitude': -87.68379563225632, 'name': 'Central-Evanston', 'longitude': 'Purple Line'}>>\n",
      "<Record n=<Node element_id='4:ca41dbad-5021-46c8-98bb-c521b336b04e:114' labels=frozenset({'Station'}) properties={'latitude': -87.68379563225632, 'name': 'Noyes', 'longitude': 'Purple Line'}>>\n",
      "<Record n=<Node element_id='4:ca41dbad-5021-46c8-98bb-c521b336b04e:115' labels=frozenset({'Station'}) properties={'latitude': -87.68352967755074, 'name': 'Foster', 'longitude': 'Purple Line'}>>\n",
      "<Record n=<Node element_id='4:ca41dbad-5021-46c8-98bb-c521b336b04e:116' labels=frozenset({'Station'}) properties={'latitude': -87.67127989894826, 'name': 'Ashland-Midway', 'longitude': 'Orange Line'}>>\n",
      "<Record n=<Node element_id='4:ca41dbad-5021-46c8-98bb-c521b336b04e:117' labels=frozenset({'Station'}) properties={'latitude': -87.65346416198433, 'name': 'Clark Junction', 'longitude': 'Brown, Purple (Express), Red'}>>\n",
      "<Record n=<Node element_id='4:ca41dbad-5021-46c8-98bb-c521b336b04e:118' labels=frozenset({'Station'}) properties={'latitude': -87.65850948038, 'name': 'Lawrence', 'longitude': 'Red, Purple Line'}>>\n",
      "<Record n=<Node element_id='4:ca41dbad-5021-46c8-98bb-c521b336b04e:119' labels=frozenset({'Station'}) properties={'latitude': -87.6586012055979, 'name': 'Berwyn', 'longitude': 'Red, Purple Line'}>>\n",
      "<Record n=<Node element_id='4:ca41dbad-5021-46c8-98bb-c521b336b04e:120' labels=frozenset({'Station'}) properties={'latitude': -87.65257729864435, 'name': 'Armitage', 'longitude': 'Brown, Purple (Express), Red'}>>\n",
      "<Record n=<Node element_id='4:ca41dbad-5021-46c8-98bb-c521b336b04e:121' labels=frozenset({'Station'}) properties={'latitude': -87.63693289378533, 'name': 'Sedgwick', 'longitude': 'Brown, Purple'}>>\n",
      "<Record n=<Node element_id='4:ca41dbad-5021-46c8-98bb-c521b336b04e:122' labels=frozenset({'Station'}) properties={'latitude': -87.61085510665878, 'name': 'Cottage Grove', 'longitude': 'Green Line'}>>\n",
      "<Record n=<Node element_id='4:ca41dbad-5021-46c8-98bb-c521b336b04e:123' labels=frozenset({'Station'}) properties={'latitude': -87.61760578908596, 'name': 'King Drive', 'longitude': 'Green Line'}>>\n",
      "<Record n=<Node element_id='4:ca41dbad-5021-46c8-98bb-c521b336b04e:124' labels=frozenset({'Station'}) properties={'latitude': -87.62615903211955, 'name': 'Cermak-McCormick Place', 'longitude': 'Green Line'}>>\n",
      "<Record n=<Node element_id='4:ca41dbad-5021-46c8-98bb-c521b336b04e:125' labels=frozenset({'Station'}) properties={'latitude': -87.84790617326246, 'name': 'Cumberland', 'longitude': \"Blue Line (O'Hare)\"}>>\n",
      "<Record n=<Node element_id='4:ca41dbad-5021-46c8-98bb-c521b336b04e:126' labels=frozenset({'Station'}) properties={'latitude': -87.81293603453571, 'name': 'Harlem-Congress', 'longitude': 'Blue Line (Forest Park)'}>>\n",
      "<Record n=<Node element_id='4:ca41dbad-5021-46c8-98bb-c521b336b04e:127' labels=frozenset({'Station'}) properties={'latitude': -87.70195475313736, 'name': 'Kedzie-Lake', 'longitude': 'Green Line'}>>\n",
      "<Record n=<Node element_id='4:ca41dbad-5021-46c8-98bb-c521b336b04e:128' labels=frozenset({'Station'}) properties={'latitude': -87.67127989894826, 'name': '35th/Archer', 'longitude': 'Orange Line'}>>\n",
      "<Record n=<Node element_id='4:ca41dbad-5021-46c8-98bb-c521b336b04e:129' labels=frozenset({'Station'}) properties={'latitude': -87.7052120799941, 'name': 'Francisco', 'longitude': 'Brown Line'}>>\n",
      "<Record n=<Node element_id='4:ca41dbad-5021-46c8-98bb-c521b336b04e:130' labels=frozenset({'Station'}) properties={'latitude': -87.65066112326743, 'name': 'Ashland/63rd', 'longitude': 'Green Line'}>>\n",
      "<Record n=<Node element_id='4:ca41dbad-5021-46c8-98bb-c521b336b04e:131' labels=frozenset({'Station'}) properties={'latitude': -87.65346416198433, 'name': 'Addison-North Main', 'longitude': 'Red, Purple Line'}>>\n",
      "<Record n=<Node element_id='4:ca41dbad-5021-46c8-98bb-c521b336b04e:132' labels=frozenset({'Station'}) properties={'latitude': -87.65850948038, 'name': 'Argyle', 'longitude': 'Red, Purple Line'}>>\n",
      "<Record n=<Node element_id='4:ca41dbad-5021-46c8-98bb-c521b336b04e:133' labels=frozenset({'Station'}) properties={'latitude': -87.63108080725978, 'name': '63rd-Dan Ryan', 'longitude': 'Red Line'}>>\n",
      "<Record n=<Node element_id='4:ca41dbad-5021-46c8-98bb-c521b336b04e:134' labels=frozenset({'Station'}) properties={'latitude': -87.88119690717693, 'name': 'Rosemont', 'longitude': \"Blue Line (O'Hare)\"}>>\n",
      "<Record n=<Node element_id='4:ca41dbad-5021-46c8-98bb-c521b336b04e:135' labels=frozenset({'Station'}) properties={'latitude': -87.81293603453571, 'name': 'Forest Park', 'longitude': 'Blue Line (Forest Park)'}>>\n",
      "<Record n=<Node element_id='4:ca41dbad-5021-46c8-98bb-c521b336b04e:136' labels=frozenset({'Station'}) properties={'latitude': -87.68285210738762, 'name': 'Dempster', 'longitude': 'Purple Line'}>>\n",
      "<Record n=<Node element_id='4:ca41dbad-5021-46c8-98bb-c521b336b04e:137' labels=frozenset({'Station'}) properties={'latitude': -87.65976414926423, 'name': 'Loyola', 'longitude': 'Red, Purple Line'}>>\n",
      "<Record n=<Node element_id='4:ca41dbad-5021-46c8-98bb-c521b336b04e:138' labels=frozenset({'Station'}) properties={'latitude': -87.65912812125299, 'name': 'Granville', 'longitude': 'Red, Purple Line'}>>\n",
      "<Record n=<Node element_id='4:ca41dbad-5021-46c8-98bb-c521b336b04e:139' labels=frozenset({'Station'}) properties={'latitude': -87.63381099781002, 'name': 'Washington/Wells', 'longitude': 'Brown, Orange, Pink, Purple (Express)'}>>\n",
      "<Record n=<Node element_id='4:ca41dbad-5021-46c8-98bb-c521b336b04e:140' labels=frozenset({'Station'}) properties={'latitude': -87.62941228011262, 'name': 'Monroe/Dearborn', 'longitude': \"Blue Line (O'Hare)\"}>>\n",
      "<Record n=<Node element_id='4:ca41dbad-5021-46c8-98bb-c521b336b04e:141' labels=frozenset({'Station'}) properties={'latitude': -87.6277584857096, 'name': 'Monroe/State', 'longitude': 'Red Line'}>>\n",
      "<Record n=<Node element_id='4:ca41dbad-5021-46c8-98bb-c521b336b04e:142' labels=frozenset({'Station'}) properties={'latitude': -87.61892959513655, 'name': '47th-South Elevated', 'longitude': 'Green Line'}>>\n",
      "<Record n=<Node element_id='4:ca41dbad-5021-46c8-98bb-c521b336b04e:143' labels=frozenset({'Station'}) properties={'latitude': -87.89879012249536, 'name': \"O'Hare Airport\", 'longitude': \"Blue Line (O'Hare)\"}>>\n",
      "<Record n=<Node element_id='4:ca41dbad-5021-46c8-98bb-c521b336b04e:144' labels=frozenset({'Station'}) properties={'latitude': -87.88119690717693, 'name': 'Subway Portal A', 'longitude': \"Blue Line (O'Hare)\"}>>\n",
      "<Record n=<Node element_id='4:ca41dbad-5021-46c8-98bb-c521b336b04e:145' labels=frozenset({'Station'}) properties={'latitude': -87.7357419301787, 'name': 'Midway Airport', 'longitude': 'Orange Line'}>>\n",
      "<Record n=<Node element_id='4:ca41dbad-5021-46c8-98bb-c521b336b04e:146' labels=frozenset({'Station'}) properties={'latitude': -87.74919253254365, 'name': 'Dempster-Skokie', 'longitude': 'Yellow Line'}>>\n",
      "<Record n=<Node element_id='4:ca41dbad-5021-46c8-98bb-c521b336b04e:147' labels=frozenset({'Station'}) properties={'latitude': -87.68352967755074, 'name': 'Davis', 'longitude': 'Purple Line'}>>\n",
      "<Record n=<Node element_id='4:ca41dbad-5021-46c8-98bb-c521b336b04e:148' labels=frozenset({'Station'}) properties={'latitude': -87.63095648969231, 'name': 'Sox-35th-Dan Ryan', 'longitude': 'Red Line'}>>\n",
      "<Record n=<Node element_id='4:ca41dbad-5021-46c8-98bb-c521b336b04e:149' labels=frozenset({'Station'}) properties={'latitude': -87.63331197883412, 'name': 'Quincy/Wells', 'longitude': 'Brown, Orange, Pink, Purple (Express)'}>>\n",
      "<Record n=<Node element_id='4:ca41dbad-5021-46c8-98bb-c521b336b04e:150' labels=frozenset({'Station'}) properties={'latitude': -87.62977132594706, 'name': 'Washington/Dearborn', 'longitude': \"Blue Line (O'Hare)\"}>>\n",
      "<Record n=<Node element_id='4:ca41dbad-5021-46c8-98bb-c521b336b04e:151' labels=frozenset({'Station'}) properties={'latitude': -87.62615336773509, 'name': 'Washington/Wabash', 'longitude': 'Brown, Green, Orange, Pink, Purple (Exp)'}>>\n",
      "<Record n=<Node element_id='4:ca41dbad-5021-46c8-98bb-c521b336b04e:152' labels=frozenset({'Station'}) properties={'latitude': -87.62461434019436, 'name': '87th', 'longitude': 'Red Line'}>>\n",
      "<Record n=<Node element_id='4:ca41dbad-5021-46c8-98bb-c521b336b04e:153' labels=frozenset({'Station'}) properties={'latitude': -87.62461434019436, 'name': '95/Dan Ryan', 'longitude': 'Red Line'}>>\n",
      "<Record n=<Node element_id='4:ca41dbad-5021-46c8-98bb-c521b336b04e:154' labels=frozenset({'Station'}) properties={'latitude': -87.62615903211955, 'name': '35-Bronzeville-IIT', 'longitude': 'Green Line'}>>\n",
      "<Record n=<Node element_id='4:ca41dbad-5021-46c8-98bb-c521b336b04e:155' labels=frozenset({'Station'}) properties={'latitude': -87.6260663249338, 'name': 'Adams/Wabash', 'longitude': 'Brown, Green, Orange, Pink, Purple (Exp)'}>>\n"
     ]
    }
   ],
   "source": [
    "from neo4j import GraphDatabase\n",
    "\n",
    "uri = \"bolt://localhost:7687\"\n",
    "username = \"neo4j\"\n",
    "password = \"testpassword\"\n",
    "\n",
    "driver = GraphDatabase.driver(uri, auth=(username, password))\n",
    "\n",
    "with driver.session() as session:\n",
    "    result = session.run(\"MATCH (n) RETURN n\")\n",
    "    for record in result:\n",
    "        print(record)\n",
    "driver.close()"
   ]
  },
  {
   "cell_type": "markdown",
   "id": "a1944398",
   "metadata": {},
   "source": [
    "# Menu\n",
    "\n",
    "1) <a href=\"#insert\">Insert ad-hoc data</a>\n",
    "2) <a href=\"#csv\">Load a CSV of data</a>\n",
    "3) <a href=\"#query\">Query database</a>"
   ]
  },
  {
   "cell_type": "markdown",
   "id": "35c6a4a3",
   "metadata": {},
   "source": [
    "<a name=\"insert\" />\n",
    "\n",
    "# Insert ad-hoc data"
   ]
  },
  {
   "cell_type": "code",
   "execution_count": 2,
   "id": "24005759",
   "metadata": {},
   "outputs": [
    {
     "name": "stdout",
     "output_type": "stream",
     "text": [
      "Alice is friends with Bob\n",
      "Bob is friends with Charlie\n",
      "Alice is friends with Bob\n",
      "Bob is friends with Charlie\n"
     ]
    }
   ],
   "source": [
    "from neo4j import GraphDatabase\n",
    "\n",
    "# Connect to the Neo4j instance\n",
    "uri = \"bolt://localhost:7687\"\n",
    "username = \"neo4j\"\n",
    "password = \"testpassword\"\n",
    "\n",
    "driver = GraphDatabase.driver(uri, auth=(username, password))\n",
    "\n",
    "# Function to add data\n",
    "def add_data(session):\n",
    "    session.run(\n",
    "        \"\"\"\n",
    "        CREATE (a:Person {name: 'Alice', age: 30})\n",
    "        CREATE (b:Person {name: 'Bob', age: 25})\n",
    "        CREATE (c:Person {name: 'Charlie', age: 35})\n",
    "        CREATE (a)-[:FRIENDS_WITH]->(b)\n",
    "        CREATE (b)-[:FRIENDS_WITH]->(c)\n",
    "        \"\"\"\n",
    "    )\n",
    "\n",
    "# Function to query data\n",
    "def query_data(session):\n",
    "    result = session.run(\n",
    "        \"\"\"\n",
    "        MATCH (p:Person)-[:FRIENDS_WITH]->(friend)\n",
    "        RETURN p.name AS person, friend.name AS friend\n",
    "        \"\"\"\n",
    "    )\n",
    "    for record in result:\n",
    "        print(f\"{record['person']} is friends with {record['friend']}\")\n",
    "\n",
    "# Run the add and query functions in a session\n",
    "with driver.session() as session:\n",
    "    add_data(session)\n",
    "    query_data(session)\n",
    "\n",
    "# Close the driver connection\n",
    "driver.close()\n"
   ]
  },
  {
   "cell_type": "markdown",
   "id": "f88c8c69",
   "metadata": {},
   "source": [
    "<a name=\"csv\" />\n",
    "\n",
    "# Load a CSV of data"
   ]
  },
  {
   "cell_type": "code",
   "execution_count": 3,
   "id": "4a40493e",
   "metadata": {
    "scrolled": true
   },
   "outputs": [
    {
     "data": {
      "text/html": [
       "<div>\n",
       "<style scoped>\n",
       "    .dataframe tbody tr th:only-of-type {\n",
       "        vertical-align: middle;\n",
       "    }\n",
       "\n",
       "    .dataframe tbody tr th {\n",
       "        vertical-align: top;\n",
       "    }\n",
       "\n",
       "    .dataframe thead th {\n",
       "        text-align: right;\n",
       "    }\n",
       "</style>\n",
       "<table border=\"1\" class=\"dataframe\">\n",
       "  <thead>\n",
       "    <tr style=\"text-align: right;\">\n",
       "      <th></th>\n",
       "      <th>Station</th>\n",
       "      <th>Lines</th>\n",
       "      <th>Longitude</th>\n",
       "      <th>Latitude</th>\n",
       "    </tr>\n",
       "  </thead>\n",
       "  <tbody>\n",
       "    <tr>\n",
       "      <th>45</th>\n",
       "      <td>Montrose-Ravenswood</td>\n",
       "      <td>Brown Line</td>\n",
       "      <td>-87.676044</td>\n",
       "      <td>41.965402</td>\n",
       "    </tr>\n",
       "    <tr>\n",
       "      <th>103</th>\n",
       "      <td>Addison-O'Hare</td>\n",
       "      <td>Blue Line (O'Hare)</td>\n",
       "      <td>-87.722231</td>\n",
       "      <td>41.949117</td>\n",
       "    </tr>\n",
       "    <tr>\n",
       "      <th>139</th>\n",
       "      <td>47th-South Elevated</td>\n",
       "      <td>Green Line</td>\n",
       "      <td>-87.618930</td>\n",
       "      <td>41.812752</td>\n",
       "    </tr>\n",
       "    <tr>\n",
       "      <th>78</th>\n",
       "      <td>54/Cermak</td>\n",
       "      <td>Pink Line</td>\n",
       "      <td>-87.750849</td>\n",
       "      <td>41.851873</td>\n",
       "    </tr>\n",
       "    <tr>\n",
       "      <th>51</th>\n",
       "      <td>Grand/State</td>\n",
       "      <td>Red Line</td>\n",
       "      <td>-87.628097</td>\n",
       "      <td>41.894090</td>\n",
       "    </tr>\n",
       "  </tbody>\n",
       "</table>\n",
       "</div>"
      ],
      "text/plain": [
       "                 Station               Lines  Longitude   Latitude\n",
       "45   Montrose-Ravenswood          Brown Line -87.676044  41.965402\n",
       "103       Addison-O'Hare  Blue Line (O'Hare) -87.722231  41.949117\n",
       "139  47th-South Elevated          Green Line -87.618930  41.812752\n",
       "78             54/Cermak           Pink Line -87.750849  41.851873\n",
       "51           Grand/State            Red Line -87.628097  41.894090"
      ]
     },
     "execution_count": 3,
     "metadata": {},
     "output_type": "execute_result"
    }
   ],
   "source": [
    "import pandas as pd\n",
    "nodes_data = pd.read_csv('../data/nodes_data.csv')\n",
    "nodes_data.sample(5)"
   ]
  },
  {
   "cell_type": "code",
   "execution_count": 4,
   "id": "70a1b630",
   "metadata": {},
   "outputs": [
    {
     "data": {
      "text/html": [
       "<div>\n",
       "<style scoped>\n",
       "    .dataframe tbody tr th:only-of-type {\n",
       "        vertical-align: middle;\n",
       "    }\n",
       "\n",
       "    .dataframe tbody tr th {\n",
       "        vertical-align: top;\n",
       "    }\n",
       "\n",
       "    .dataframe thead th {\n",
       "        text-align: right;\n",
       "    }\n",
       "</style>\n",
       "<table border=\"1\" class=\"dataframe\">\n",
       "  <thead>\n",
       "    <tr style=\"text-align: right;\">\n",
       "      <th></th>\n",
       "      <th>From</th>\n",
       "      <th>To</th>\n",
       "      <th>Type</th>\n",
       "      <th>Legend</th>\n",
       "      <th>Alt_Legend</th>\n",
       "      <th>Branch</th>\n",
       "      <th>Owl</th>\n",
       "      <th>Shape</th>\n",
       "      <th>Shape_len</th>\n",
       "    </tr>\n",
       "  </thead>\n",
       "  <tbody>\n",
       "    <tr>\n",
       "      <th>78</th>\n",
       "      <td>Damen-Ravenswood</td>\n",
       "      <td>Montrose-Ravenswood</td>\n",
       "      <td>Elevated or at Grade</td>\n",
       "      <td>BR</td>\n",
       "      <td>BR</td>\n",
       "      <td>Brown Line</td>\n",
       "      <td>No</td>\n",
       "      <td>Polyline</td>\n",
       "      <td>2371.581205</td>\n",
       "    </tr>\n",
       "    <tr>\n",
       "      <th>88</th>\n",
       "      <td>Cermak-McCormick Place</td>\n",
       "      <td>17th Junction</td>\n",
       "      <td>Elevated or at Grade</td>\n",
       "      <td>GR</td>\n",
       "      <td>GR</td>\n",
       "      <td>Green Line South Elevated</td>\n",
       "      <td>No</td>\n",
       "      <td>Polyline</td>\n",
       "      <td>2057.480507</td>\n",
       "    </tr>\n",
       "    <tr>\n",
       "      <th>31</th>\n",
       "      <td>California-Lake</td>\n",
       "      <td>Paulina Junction</td>\n",
       "      <td>Elevated or at Grade</td>\n",
       "      <td>GR</td>\n",
       "      <td>GR</td>\n",
       "      <td>Green Line Lake Street</td>\n",
       "      <td>No</td>\n",
       "      <td>Polyline</td>\n",
       "      <td>7309.368408</td>\n",
       "    </tr>\n",
       "    <tr>\n",
       "      <th>30</th>\n",
       "      <td>Kedzie-Douglas</td>\n",
       "      <td>California-Douglas</td>\n",
       "      <td>Elevated or at Grade</td>\n",
       "      <td>PK</td>\n",
       "      <td>PK</td>\n",
       "      <td>Pink Line</td>\n",
       "      <td>No</td>\n",
       "      <td>Polyline</td>\n",
       "      <td>2889.800417</td>\n",
       "    </tr>\n",
       "    <tr>\n",
       "      <th>144</th>\n",
       "      <td>Clark/Lake</td>\n",
       "      <td>Washington/Dearborn</td>\n",
       "      <td>Subway</td>\n",
       "      <td>BL</td>\n",
       "      <td>BL</td>\n",
       "      <td>Blue Line Dearborn Subway</td>\n",
       "      <td>Yes</td>\n",
       "      <td>Polyline</td>\n",
       "      <td>1285.128506</td>\n",
       "    </tr>\n",
       "  </tbody>\n",
       "</table>\n",
       "</div>"
      ],
      "text/plain": [
       "                       From                   To                  Type Legend  \\\n",
       "78         Damen-Ravenswood  Montrose-Ravenswood  Elevated or at Grade     BR   \n",
       "88   Cermak-McCormick Place        17th Junction  Elevated or at Grade     GR   \n",
       "31          California-Lake     Paulina Junction  Elevated or at Grade     GR   \n",
       "30           Kedzie-Douglas   California-Douglas  Elevated or at Grade     PK   \n",
       "144              Clark/Lake  Washington/Dearborn                Subway     BL   \n",
       "\n",
       "    Alt_Legend                     Branch  Owl     Shape    Shape_len  \n",
       "78          BR                 Brown Line   No  Polyline  2371.581205  \n",
       "88          GR  Green Line South Elevated   No  Polyline  2057.480507  \n",
       "31          GR     Green Line Lake Street   No  Polyline  7309.368408  \n",
       "30          PK                  Pink Line   No  Polyline  2889.800417  \n",
       "144         BL  Blue Line Dearborn Subway  Yes  Polyline  1285.128506  "
      ]
     },
     "execution_count": 4,
     "metadata": {},
     "output_type": "execute_result"
    }
   ],
   "source": [
    "import pandas as pd\n",
    "edges_data = pd.read_csv('../data/edges_data.csv')\n",
    "edges_data.sample(5)"
   ]
  },
  {
   "cell_type": "markdown",
   "id": "ae441369",
   "metadata": {},
   "source": [
    "<a name=\"insert\" />\n",
    "\n",
    "# Create a new Neo4j graph"
   ]
  },
  {
   "cell_type": "code",
   "execution_count": 5,
   "id": "6ac3828e",
   "metadata": {},
   "outputs": [],
   "source": [
    "from neo4j import GraphDatabase\n",
    "import pandas as pd\n",
    "\n",
    "uri = \"bolt://localhost:7687\"\n",
    "username = \"neo4j\"\n",
    "password = \"testpassword\"\n",
    "driver = GraphDatabase.driver(uri, auth=(username, password))"
   ]
  },
  {
   "cell_type": "markdown",
   "id": "596b6aec",
   "metadata": {},
   "source": [
    "<a name=\"insert\" />\n",
    "\n",
    "# Load the Nodes to the Graph"
   ]
  },
  {
   "cell_type": "code",
   "execution_count": 6,
   "id": "b3a6d22c",
   "metadata": {},
   "outputs": [],
   "source": [
    "with driver.session() as session:\n",
    "    for index, row in nodes_data.iterrows():\n",
    "        session.run(\n",
    "            \"CREATE (:Station {name: $name, longitude: $long, latitude: $lat})\",\n",
    "            name=row[0], long=row[1], lat=row[2]\n",
    "        )"
   ]
  },
  {
   "cell_type": "markdown",
   "id": "465f342f",
   "metadata": {},
   "source": [
    "<a name=\"insert\" />\n",
    "\n",
    "# Load the Edges to the Graph"
   ]
  },
  {
   "cell_type": "code",
   "execution_count": 7,
   "id": "4b8f6843",
   "metadata": {},
   "outputs": [],
   "source": [
    "with driver.session() as session:\n",
    "    for index, row in edges_data.iterrows():\n",
    "        session.run(\n",
    "            \"\"\"\n",
    "            MATCH (from:Station {name: $from_node})\n",
    "            MATCH (to:Station {name: $to_node})\n",
    "            CREATE (from)-[:CONNECTED_TO {\n",
    "                type: $type, \n",
    "                legend: $legend,\n",
    "                alt_legend: $alt_legend,\n",
    "                branch: $branch,\n",
    "                owl: $owl,\n",
    "                shape: $shape,\n",
    "                shape_len: toFloat($shape_len)\n",
    "            }]->(to)\n",
    "            \"\"\",\n",
    "            from_node=row['From'],\n",
    "            to_node=row['To'],\n",
    "            type=row['Type'],\n",
    "            legend=row['Legend'],\n",
    "            alt_legend=row['Alt_Legend'],\n",
    "            branch=row['Branch'],\n",
    "            owl=row['Owl'],            \n",
    "            shape=row['Shape'],       \n",
    "            shape_len=row['Shape_len']\n",
    "        )"
   ]
  },
  {
   "cell_type": "code",
   "execution_count": 8,
   "id": "c21b9af9",
   "metadata": {},
   "outputs": [
    {
     "name": "stdout",
     "output_type": "stream",
     "text": [
      "Number of stations: 306\n",
      "Number of connections: 765\n"
     ]
    }
   ],
   "source": [
    "with driver.session() as session:\n",
    "    node_count = session.run(\"MATCH (n:Station) RETURN COUNT(n)\").single()[0]\n",
    "    edge_count = session.run(\"MATCH ()-[r:CONNECTED_TO]->() RETURN COUNT(r)\").single()[0]\n",
    "\n",
    "print(f\"Number of stations: {node_count}\")\n",
    "print(f\"Number of connections: {edge_count}\")"
   ]
  },
  {
   "cell_type": "code",
   "execution_count": 9,
   "id": "3be3a242",
   "metadata": {},
   "outputs": [
    {
     "data": {
      "text/plain": [
       "(153, 4)"
      ]
     },
     "execution_count": 9,
     "metadata": {},
     "output_type": "execute_result"
    }
   ],
   "source": [
    "nodes_data.shape"
   ]
  },
  {
   "cell_type": "code",
   "execution_count": 10,
   "id": "69313010",
   "metadata": {},
   "outputs": [
    {
     "data": {
      "text/plain": [
       "(153, 9)"
      ]
     },
     "execution_count": 10,
     "metadata": {},
     "output_type": "execute_result"
    }
   ],
   "source": [
    "edges_data.shape"
   ]
  },
  {
   "cell_type": "markdown",
   "id": "83a93e63",
   "metadata": {},
   "source": [
    "<a name=\"query\" />\n",
    "\n",
    "# Query database"
   ]
  },
  {
   "cell_type": "code",
   "execution_count": 11,
   "id": "da62e4ab",
   "metadata": {},
   "outputs": [
    {
     "name": "stdout",
     "output_type": "stream",
     "text": [
      "Total number of stations in the graph: 306\n"
     ]
    }
   ],
   "source": [
    "# What is the total number of stations in the graph?\n",
    "with driver.session() as session:\n",
    "    result = session.run(\n",
    "        \"\"\"\n",
    "        MATCH (s:Station)\n",
    "        RETURN COUNT(s) AS TotalStations\n",
    "        \"\"\"\n",
    "    )\n",
    "    total_stations = result.single()[\"TotalStations\"]\n",
    "\n",
    "print(f\"Total number of stations in the graph: {total_stations}\")"
   ]
  },
  {
   "cell_type": "code",
   "execution_count": 12,
   "id": "ab5879db",
   "metadata": {},
   "outputs": [
    {
     "name": "stdout",
     "output_type": "stream",
     "text": [
      "Station with the most connections: Clark/Lake (20 connections)\n"
     ]
    }
   ],
   "source": [
    "# Find the station with the most connections\n",
    "with driver.session() as session:\n",
    "    result = session.run(\n",
    "        \"\"\"\n",
    "        MATCH (station:Station)-[:CONNECTED_TO]-()\n",
    "        RETURN station.name AS StationName, COUNT(*) AS ConnectionCount\n",
    "        ORDER BY ConnectionCount DESC\n",
    "        LIMIT 1\n",
    "        \"\"\"\n",
    "    )\n",
    "    record = result.single()\n",
    "    station_name = record[\"StationName\"]\n",
    "    connection_count = record[\"ConnectionCount\"]\n",
    "\n",
    "print(f\"Station with the most connections: {station_name} ({connection_count} connections)\")"
   ]
  },
  {
   "cell_type": "code",
   "execution_count": 13,
   "id": "2d1e0cff",
   "metadata": {},
   "outputs": [
    {
     "name": "stdout",
     "output_type": "stream",
     "text": [
      "Top 10 branches by total connection distance:\n",
      "Blue Line O'Hare: 171.12 miles (275.37 km)\n",
      "Red Line North Side: 104.94 miles (168.87 km)\n",
      "Red Line Dan Ryan: 101.81 miles (163.84 km)\n",
      "Blue Line Forest Park: 96.61 miles (155.47 km)\n",
      "Orange Line: 91.1 miles (146.61 km)\n",
      "Green Line Lake Street: 87.44 miles (140.71 km)\n",
      "Brown Line: 73.92 miles (118.96 km)\n",
      "Pink Line: 66.84 miles (107.56 km)\n",
      "Green Line South Elevated: 64.8 miles (104.28 km)\n",
      "Yellow Line: 49.29 miles (79.32 km)\n"
     ]
    }
   ],
   "source": [
    "# What are the top 10 branches by total connection distance?\n",
    "with driver.session() as session:\n",
    "    result = session.run(\n",
    "        \"\"\"\n",
    "        MATCH (:Station)-[r:CONNECTED_TO]-(:Station)\n",
    "        RETURN r.branch AS Branch, SUM(r.shape_len) AS TotalDistanceFeet\n",
    "        ORDER BY TotalDistanceFeet DESC\n",
    "        LIMIT 10\n",
    "        \"\"\"\n",
    "    )\n",
    "    top_branches = [\n",
    "        (record[\"Branch\"], round(record[\"TotalDistanceFeet\"] / 5280, 2), round(record[\"TotalDistanceFeet\"] / 3.281 / 1000, 2))\n",
    "        for record in result\n",
    "    ]\n",
    "\n",
    "print(\"Top 10 branches by total connection distance:\")\n",
    "for branch, distance_miles, distance_km in top_branches:\n",
    "    print(f\"{branch}: {distance_miles} miles ({distance_km} km)\")"
   ]
  },
  {
   "cell_type": "code",
   "execution_count": 14,
   "id": "8ed9560a",
   "metadata": {},
   "outputs": [
    {
     "name": "stdout",
     "output_type": "stream",
     "text": [
      "Stations connected by the 'Orange Line':\n",
      "1. 17th Junction -> Halsted-Midway\n",
      "2. 17th Junction -> Halsted-Midway\n",
      "3. 17th Junction -> Halsted-Midway\n",
      "4. 17th Junction -> Halsted-Midway\n",
      "5. 17th Junction -> Halsted-Midway\n",
      "6. 35th/Archer -> Ashland-Midway\n",
      "7. 35th/Archer -> Ashland-Midway\n",
      "8. 35th/Archer -> Ashland-Midway\n",
      "9. 35th/Archer -> Ashland-Midway\n",
      "10. 35th/Archer -> Ashland-Midway\n",
      "11. 35th/Archer -> Western-Midway\n",
      "12. 35th/Archer -> Western-Midway\n",
      "13. 35th/Archer -> Western-Midway\n",
      "14. 35th/Archer -> Western-Midway\n",
      "15. 35th/Archer -> Western-Midway\n",
      "16. Ashland-Midway -> 35th/Archer\n",
      "17. Ashland-Midway -> 35th/Archer\n",
      "18. Ashland-Midway -> 35th/Archer\n",
      "19. Ashland-Midway -> 35th/Archer\n",
      "20. Ashland-Midway -> 35th/Archer\n",
      "21. Ashland-Midway -> Halsted-Midway\n",
      "22. Ashland-Midway -> Halsted-Midway\n",
      "23. Ashland-Midway -> Halsted-Midway\n",
      "24. Ashland-Midway -> Halsted-Midway\n",
      "25. Ashland-Midway -> Halsted-Midway\n",
      "26. Halsted-Midway -> 17th Junction\n",
      "27. Halsted-Midway -> 17th Junction\n",
      "28. Halsted-Midway -> 17th Junction\n",
      "29. Halsted-Midway -> 17th Junction\n",
      "30. Halsted-Midway -> 17th Junction\n",
      "31. Halsted-Midway -> Ashland-Midway\n",
      "32. Halsted-Midway -> Ashland-Midway\n",
      "33. Halsted-Midway -> Ashland-Midway\n",
      "34. Halsted-Midway -> Ashland-Midway\n",
      "35. Halsted-Midway -> Ashland-Midway\n",
      "36. Kedzie-Midway -> Pulaski-Midway\n",
      "37. Kedzie-Midway -> Pulaski-Midway\n",
      "38. Kedzie-Midway -> Pulaski-Midway\n",
      "39. Kedzie-Midway -> Pulaski-Midway\n",
      "40. Kedzie-Midway -> Pulaski-Midway\n",
      "41. Kedzie-Midway -> Western-Midway\n",
      "42. Kedzie-Midway -> Western-Midway\n",
      "43. Kedzie-Midway -> Western-Midway\n",
      "44. Kedzie-Midway -> Western-Midway\n",
      "45. Kedzie-Midway -> Western-Midway\n",
      "46. Midway Airport -> Pulaski-Midway\n",
      "47. Midway Airport -> Pulaski-Midway\n",
      "48. Midway Airport -> Pulaski-Midway\n",
      "49. Midway Airport -> Pulaski-Midway\n",
      "50. Midway Airport -> Pulaski-Midway\n",
      "51. Pulaski-Midway -> Kedzie-Midway\n",
      "52. Pulaski-Midway -> Kedzie-Midway\n",
      "53. Pulaski-Midway -> Kedzie-Midway\n",
      "54. Pulaski-Midway -> Kedzie-Midway\n",
      "55. Pulaski-Midway -> Kedzie-Midway\n",
      "56. Pulaski-Midway -> Midway Airport\n",
      "57. Pulaski-Midway -> Midway Airport\n",
      "58. Pulaski-Midway -> Midway Airport\n",
      "59. Pulaski-Midway -> Midway Airport\n",
      "60. Pulaski-Midway -> Midway Airport\n",
      "61. Western-Midway -> 35th/Archer\n",
      "62. Western-Midway -> 35th/Archer\n",
      "63. Western-Midway -> 35th/Archer\n",
      "64. Western-Midway -> 35th/Archer\n",
      "65. Western-Midway -> 35th/Archer\n",
      "66. Western-Midway -> Kedzie-Midway\n",
      "67. Western-Midway -> Kedzie-Midway\n",
      "68. Western-Midway -> Kedzie-Midway\n",
      "69. Western-Midway -> Kedzie-Midway\n",
      "70. Western-Midway -> Kedzie-Midway\n"
     ]
    }
   ],
   "source": [
    "# Find and display stations connected by the \"Orange Line\"\n",
    "with driver.session() as session:\n",
    "    result = session.run(\n",
    "        \"\"\"\n",
    "        MATCH (a:Station)-[r:CONNECTED_TO {branch: 'Orange Line'}]-(b:Station)\n",
    "        RETURN a.name AS FromStation, b.name AS ToStation\n",
    "        ORDER BY FromStation, ToStation\n",
    "        \"\"\"\n",
    "    )\n",
    "    connections = [(record[\"FromStation\"], record[\"ToStation\"]) for record in result]\n",
    "\n",
    "print(\"Stations connected by the 'Orange Line':\")\n",
    "for index, (from_station, to_station) in enumerate(connections, start=1):\n",
    "    print(f\"{index}. {from_station} -> {to_station}\")"
   ]
  },
  {
   "cell_type": "code",
   "execution_count": 15,
   "id": "eea8b13f",
   "metadata": {},
   "outputs": [
    {
     "name": "stdout",
     "output_type": "stream",
     "text": [
      "Longest connection is from Howard to Oakton-Skokie\n",
      "Distance: 4.01 miles (6.46 km)\n"
     ]
    }
   ],
   "source": [
    "with driver.session() as session:\n",
    "    result = session.run(\"\"\"\n",
    "        MATCH (a:Station)-[r:CONNECTED_TO]-(b:Station)\n",
    "        RETURN \n",
    "            a.name AS FromStation, \n",
    "            b.name AS ToStation, \n",
    "            r.shape_len/5280 AS DistanceMiles,  // Convert feet to miles\n",
    "            r.shape_len/3.281 AS DistanceMeters  // Convert feet to meters\n",
    "        ORDER BY r.shape_len DESC\n",
    "        LIMIT 1\n",
    "    \"\"\")\n",
    "    record = result.single()\n",
    "    from_station = record[\"FromStation\"]\n",
    "    to_station = record[\"ToStation\"]\n",
    "    distance_miles = round(record[\"DistanceMiles\"], 2)\n",
    "    distance_km = round(record[\"DistanceMeters\"]/1000, 2)\n",
    "    print(f\"Longest connection is from {from_station} to {to_station}\")\n",
    "    print(f\"Distance: {distance_miles} miles ({distance_km} km)\")"
   ]
  },
  {
   "cell_type": "code",
   "execution_count": 16,
   "id": "b4f806d8",
   "metadata": {},
   "outputs": [
    {
     "name": "stdout",
     "output_type": "stream",
     "text": [
      "Stations directly connected to 'Howard':\n",
      "1. Jarvis\n",
      "2. Jarvis\n",
      "3. Jarvis\n",
      "4. Jarvis\n",
      "5. Jarvis\n",
      "6. Oakton-Skokie\n",
      "7. Oakton-Skokie\n",
      "8. Oakton-Skokie\n",
      "9. Oakton-Skokie\n",
      "10. Oakton-Skokie\n",
      "11. South Blvd.\n",
      "12. South Blvd.\n",
      "13. South Blvd.\n",
      "14. South Blvd.\n",
      "15. South Blvd.\n"
     ]
    }
   ],
   "source": [
    "# Find and display stations directly connected to \"Howard\"\n",
    "with driver.session() as session:\n",
    "    result = session.run(\n",
    "        \"\"\"\n",
    "        MATCH (a:Station {name: 'Howard'})-[:CONNECTED_TO]-(b:Station)\n",
    "        RETURN b.name AS ConnectedStation\n",
    "        ORDER BY b.name\n",
    "        \"\"\"\n",
    "    )\n",
    "    connected_stations = [record[\"ConnectedStation\"] for record in result]\n",
    "\n",
    "\n",
    "print(f\"Stations directly connected to 'Howard':\")\n",
    "for index, station in enumerate(connected_stations, start=1):\n",
    "    print(f\"{index}. {station}\")"
   ]
  },
  {
   "cell_type": "code",
   "execution_count": 17,
   "id": "3cf323a3",
   "metadata": {},
   "outputs": [
    {
     "name": "stdout",
     "output_type": "stream",
     "text": [
      "Average distance of all connections: 0.67 miles (1.08 km)\n"
     ]
    }
   ],
   "source": [
    "# Calculate the average distance of all connections\n",
    "with driver.session() as session:\n",
    "    result = session.run(\n",
    "        \"\"\"\n",
    "        MATCH (:Station)-[r:CONNECTED_TO]-(:Station)\n",
    "        RETURN \n",
    "            AVG(r.shape_len)/5280 AS AverageDistanceMiles,  // Convert feet to miles\n",
    "            AVG(r.shape_len)/3.281 AS AverageDistanceMeters  // Convert feet to meters\n",
    "        \"\"\"\n",
    "    )\n",
    "    record = result.single()\n",
    "    avg_distance_miles = round(record[\"AverageDistanceMiles\"], 2)\n",
    "    avg_distance_km = round(record[\"AverageDistanceMeters\"]/1000, 2)\n",
    "\n",
    "print(f\"Average distance of all connections: {avg_distance_miles} miles ({avg_distance_km} km)\")"
   ]
  },
  {
   "cell_type": "code",
   "execution_count": 18,
   "id": "8914f00b",
   "metadata": {},
   "outputs": [
    {
     "name": "stdout",
     "output_type": "stream",
     "text": [
      "Shortest route from 'Howard' to 'Belmont-O'Hare':\n",
      "  - Path: Howard -> Jarvis -> Morse -> Loyola -> Granville -> Thorndale -> Bryn Mawr -> Berwyn -> Argyle -> Lawrence -> Wilson -> Sheridan -> Addison-North Main -> Clark Junction -> Belmont-North Main -> Wellington -> Diversey -> Fullerton -> Armitage -> Subway Portal B -> Sedgwick -> Chicago/Franklin -> Merchandise Mart -> Tower 18 -> Clark/Lake -> Grand/Milwaukee -> Chicago/Milwaukee -> Division/Milwaukee -> Damen/Milwaukee -> Western/Milwaukee -> California/Milwaukee -> Logan Square -> Belmont-O'Hare\n",
      "\n",
      "  - Total stops: 32\n"
     ]
    },
    {
     "name": "stderr",
     "output_type": "stream",
     "text": [
      "/Users/dayvheed/opt/anaconda3/lib/python3.9/site-packages/neo4j/_sync/work/result.py:465: UserWarning: Expected a result with a single record, but found multiple.\n",
      "  warn(\"Expected a result with a single record, \"\n"
     ]
    }
   ],
   "source": [
    "# Function to find the shortest path between two stations\n",
    "def find_shortest_path(driver, start_station, end_station):\n",
    "    with driver.session() as session:\n",
    "        result = session.run(\n",
    "            \"\"\"\n",
    "            MATCH p=shortestPath((start:Station {name: $start_station})-[:CONNECTED_TO*]-(end:Station {name: $end_station}))\n",
    "            RETURN [n IN nodes(p) | n.name] AS Path, length(p) AS Stops\n",
    "            \"\"\",\n",
    "            start_station=start_station,\n",
    "            end_station=end_station\n",
    "        )\n",
    "        record = result.single()\n",
    "        if record:\n",
    "            path = record[\"Path\"]\n",
    "            stops = record[\"Stops\"]\n",
    "            print(f\"Shortest route from '{start_station}' to '{end_station}':\")\n",
    "            print(f\"  - Path: {' -> '.join(path)}\")\n",
    "            print()\n",
    "            print(f\"  - Total stops: {stops}\")\n",
    "        else:\n",
    "            print(f\"No path found between '{start_station}' and '{end_station}'.\")\n",
    "\n",
    "start_station = \"Howard\"  \n",
    "end_station = \"Belmont-O'Hare\"  \n",
    "find_shortest_path(driver, start_station, end_station)"
   ]
  },
  {
   "cell_type": "code",
   "execution_count": 19,
   "id": "946c61fb",
   "metadata": {},
   "outputs": [
    {
     "name": "stdout",
     "output_type": "stream",
     "text": [
      "Station with the longest cumulative connections:\n",
      "Howard with a total distance of 24.99 miles (40.21 km)\n"
     ]
    }
   ],
   "source": [
    "# Find the station with the longest cumulative connections\n",
    "with driver.session() as session:\n",
    "    result = session.run(\n",
    "        \"\"\"\n",
    "        MATCH (station:Station)-[r:CONNECTED_TO]-()\n",
    "        RETURN \n",
    "            station.name AS StationName, \n",
    "            SUM(r.shape_len)/5280 AS TotalDistanceMiles,  // Convert feet to miles\n",
    "            SUM(r.shape_len)/3.281 AS TotalDistanceMeters  // Convert feet to meters\n",
    "        ORDER BY TotalDistanceMiles DESC\n",
    "        LIMIT 1\n",
    "        \"\"\"\n",
    "    )\n",
    "    record = result.single()\n",
    "    station_name = record[\"StationName\"]\n",
    "    total_distance_miles = round(record[\"TotalDistanceMiles\"], 2)\n",
    "    total_distance_km = round(record[\"TotalDistanceMeters\"]/1000, 2)\n",
    "\n",
    "print(f\"Station with the longest cumulative connections:\")\n",
    "print(f\"{station_name} with a total distance of {total_distance_miles} miles ({total_distance_km} km)\")"
   ]
  },
  {
   "cell_type": "code",
   "execution_count": 20,
   "id": "103c34d5",
   "metadata": {},
   "outputs": [
    {
     "name": "stdout",
     "output_type": "stream",
     "text": [
      "Branch connecting the most unique stations: Red Line North Side (120 connections)\n"
     ]
    }
   ],
   "source": [
    "# Determine which branch connects the most stations\n",
    "with driver.session() as session:\n",
    "    result = session.run(\n",
    "        \"\"\"\n",
    "        MATCH (:Station)-[r:CONNECTED_TO]-(:Station)\n",
    "        RETURN r.branch AS Branch, COUNT(DISTINCT r) AS UniqueConnections\n",
    "        ORDER BY UniqueConnections DESC\n",
    "        LIMIT 1\n",
    "        \"\"\"\n",
    "    )\n",
    "    record = result.single()\n",
    "    branch = record[\"Branch\"]\n",
    "    connections = record[\"UniqueConnections\"]\n",
    "\n",
    "print(f\"Branch connecting the most unique stations: {branch} ({connections} connections)\")"
   ]
  },
  {
   "cell_type": "code",
   "execution_count": 21,
   "id": "2353d633",
   "metadata": {},
   "outputs": [
    {
     "name": "stdout",
     "output_type": "stream",
     "text": [
      "Stations reachable within 3 hops from 'Howard' (9 total):\n",
      "1. Dempster\n",
      "2. Dempster-Skokie\n",
      "3. Howard\n",
      "4. Jarvis\n",
      "5. Loyola\n",
      "6. Main\n",
      "7. Morse\n",
      "8. Oakton-Skokie\n",
      "9. South Blvd.\n"
     ]
    }
   ],
   "source": [
    "# Find stations reachable within 3 hops from \"Howard\"\n",
    "with driver.session() as session:\n",
    "    result = session.run(\n",
    "        \"\"\"\n",
    "        MATCH (start:Station {name: 'Howard'})-[:CONNECTED_TO*..3]-(reachable:Station)\n",
    "        RETURN DISTINCT reachable.name AS StationName\n",
    "        ORDER BY reachable.name\n",
    "        \"\"\"\n",
    "    )\n",
    "    stations = [record[\"StationName\"] for record in result]\n",
    "\n",
    "if stations:\n",
    "    print(f\"Stations reachable within 3 hops from 'Howard' ({len(stations)} total):\")\n",
    "    for index, station in enumerate(stations, start=1):\n",
    "        print(f\"{index}. {station}\")\n",
    "else:\n",
    "    print(\"No stations are reachable within 3 hops from 'Howard'.\")"
   ]
  },
  {
   "cell_type": "code",
   "execution_count": 22,
   "id": "96a7ad03",
   "metadata": {},
   "outputs": [
    {
     "name": "stdout",
     "output_type": "stream",
     "text": [
      "Stations part of multiple branches:\n",
      "Howard: Purple Line Evanston, Red Line North Side, Yellow Line\n",
      "Paulina Junction: Green Line Lake Street, Pink Line\n",
      "Roosevelt/State: Red Line State Street Subway, Red Line Dan Ryan\n",
      "Clark/Lake: Blue Line Dearborn Subway, Blue Line O'Hare, Loop Elevated\n",
      "Subway Portal B: Red Line North Side, Brown Line\n",
      "17th Junction: Green Line South Elevated, Orange Line\n",
      "Tower 18: Loop Elevated, Brown Line, Green Line Lake Street\n",
      "Lake/State: Red Line State Street Subway, Red Line North Side\n",
      "59th Junction: Green Line East 63rd Branch, Green Line South Elevated, Green Line Ashland/63rd Branch\n",
      "Tower 12: Loop Elevated, Green Line South Elevated\n",
      "LaSalle: Blue Line Forest Park, Blue Line Dearborn Subway\n",
      "Clark Junction: Red Line North Side, Brown Line\n",
      "Howard: Purple Line Evanston, Red Line North Side, Yellow Line\n",
      "Paulina Junction: Green Line Lake Street, Pink Line\n",
      "Roosevelt/State: Red Line State Street Subway, Red Line Dan Ryan\n",
      "Clark/Lake: Blue Line Dearborn Subway, Blue Line O'Hare, Loop Elevated\n",
      "Subway Portal B: Red Line North Side, Brown Line\n",
      "17th Junction: Green Line South Elevated, Orange Line\n",
      "Tower 18: Loop Elevated, Brown Line, Green Line Lake Street\n",
      "Lake/State: Red Line State Street Subway, Red Line North Side\n",
      "59th Junction: Green Line East 63rd Branch, Green Line South Elevated, Green Line Ashland/63rd Branch\n",
      "Tower 12: Loop Elevated, Green Line South Elevated\n",
      "LaSalle: Blue Line Forest Park, Blue Line Dearborn Subway\n",
      "Clark Junction: Red Line North Side, Brown Line\n"
     ]
    }
   ],
   "source": [
    "# Find stations that belong to more than one branch\n",
    "with driver.session() as session:\n",
    "    result = session.run(\n",
    "        \"\"\"\n",
    "        MATCH (station:Station)-[r:CONNECTED_TO]-()\n",
    "        WITH station, COLLECT(DISTINCT r.branch) AS Branches\n",
    "        WHERE size(Branches) > 1\n",
    "        RETURN station.name AS StationName, Branches\n",
    "        \"\"\"\n",
    "    )\n",
    "    stations = [(record[\"StationName\"], record[\"Branches\"]) for record in result]\n",
    "\n",
    "print(f\"Stations part of multiple branches:\")\n",
    "for station_name, branches in stations:\n",
    "    print(f\"{station_name}: {', '.join(branches)}\")"
   ]
  },
  {
   "cell_type": "code",
   "execution_count": 23,
   "id": "894af650",
   "metadata": {},
   "outputs": [
    {
     "name": "stdout",
     "output_type": "stream",
     "text": [
      "Stations that are part of multiple branches (24 total):\n",
      "1. 17th Junction: Branches: [Green Line South Elevated, Orange Line]\n",
      "2. 17th Junction: Branches: [Green Line South Elevated, Orange Line]\n",
      "3. 59th Junction: Branches: [Green Line East 63rd Branch, Green Line South Elevated, Green Line Ashland/63rd Branch]\n",
      "4. 59th Junction: Branches: [Green Line East 63rd Branch, Green Line South Elevated, Green Line Ashland/63rd Branch]\n",
      "5. Clark Junction: Branches: [Red Line North Side, Brown Line]\n",
      "6. Clark Junction: Branches: [Red Line North Side, Brown Line]\n",
      "7. Clark/Lake: Branches: [Blue Line Dearborn Subway, Blue Line O'Hare, Loop Elevated]\n",
      "8. Clark/Lake: Branches: [Blue Line Dearborn Subway, Blue Line O'Hare, Loop Elevated]\n",
      "9. Howard: Branches: [Purple Line Evanston, Red Line North Side, Yellow Line]\n",
      "10. Howard: Branches: [Purple Line Evanston, Red Line North Side, Yellow Line]\n",
      "11. LaSalle: Branches: [Blue Line Forest Park, Blue Line Dearborn Subway]\n",
      "12. LaSalle: Branches: [Blue Line Forest Park, Blue Line Dearborn Subway]\n",
      "13. Lake/State: Branches: [Red Line State Street Subway, Red Line North Side]\n",
      "14. Lake/State: Branches: [Red Line State Street Subway, Red Line North Side]\n",
      "15. Paulina Junction: Branches: [Green Line Lake Street, Pink Line]\n",
      "16. Paulina Junction: Branches: [Green Line Lake Street, Pink Line]\n",
      "17. Roosevelt/State: Branches: [Red Line State Street Subway, Red Line Dan Ryan]\n",
      "18. Roosevelt/State: Branches: [Red Line State Street Subway, Red Line Dan Ryan]\n",
      "19. Subway Portal B: Branches: [Red Line North Side, Brown Line]\n",
      "20. Subway Portal B: Branches: [Red Line North Side, Brown Line]\n",
      "21. Tower 12: Branches: [Loop Elevated, Green Line South Elevated]\n",
      "22. Tower 12: Branches: [Loop Elevated, Green Line South Elevated]\n",
      "23. Tower 18: Branches: [Loop Elevated, Brown Line, Green Line Lake Street]\n",
      "24. Tower 18: Branches: [Loop Elevated, Brown Line, Green Line Lake Street]\n"
     ]
    }
   ],
   "source": [
    "# Find stations that belong to more than one branch\n",
    "with driver.session() as session:\n",
    "    result = session.run(\n",
    "        \"\"\"\n",
    "        MATCH (station:Station)-[r:CONNECTED_TO]-()\n",
    "        WITH station, COLLECT(DISTINCT r.branch) AS Branches\n",
    "        WHERE size(Branches) > 1\n",
    "        RETURN station.name AS StationName, Branches\n",
    "        ORDER BY station.name\n",
    "        \"\"\"\n",
    "    )\n",
    "    stations = [(record[\"StationName\"], record[\"Branches\"]) for record in result]\n",
    "\n",
    "if stations:\n",
    "    print(f\"Stations that are part of multiple branches ({len(stations)} total):\")\n",
    "    for index, (station_name, branches) in enumerate(stations, start=1):\n",
    "        branch_list = ', '.join(branches)\n",
    "        print(f\"{index}. {station_name}: Branches: [{branch_list}]\")\n",
    "else:\n",
    "    print(\"No stations are part of multiple branches.\")"
   ]
  },
  {
   "cell_type": "code",
   "execution_count": 24,
   "id": "0a4a244b",
   "metadata": {},
   "outputs": [
    {
     "name": "stdout",
     "output_type": "stream",
     "text": [
      "Top 3 busiest stations by cumulative distance:\n",
      "Howard: 24.99 miles (40.21 km)\n",
      "Oakton-Skokie: 24.64 miles (39.66 km)\n",
      "Harlem-O'Hare: 21.22 miles (34.15 km)\n"
     ]
    }
   ],
   "source": [
    "# Find top 3 busiest stations by cumulative distance\n",
    "with driver.session() as session:\n",
    "    result = session.run(\n",
    "        \"\"\"\n",
    "        MATCH (station:Station)-[r:CONNECTED_TO]-()\n",
    "        RETURN \n",
    "            station.name AS StationName, \n",
    "            SUM(r.shape_len)/5280 AS TotalDistanceMiles,  // Convert feet to miles\n",
    "            SUM(r.shape_len)/3.281 AS TotalDistanceMeters  // Convert feet to meters\n",
    "        ORDER BY TotalDistanceMiles DESC\n",
    "        LIMIT 3\n",
    "        \"\"\"\n",
    "    )\n",
    "    top_stations = [\n",
    "        (\n",
    "            record[\"StationName\"],\n",
    "            round(record[\"TotalDistanceMiles\"], 2),\n",
    "            round(record[\"TotalDistanceMeters\"] / 1000, 2)\n",
    "        )\n",
    "        for record in result\n",
    "    ]\n",
    "\n",
    "print(f\"Top 3 busiest stations by cumulative distance:\")\n",
    "for station_name, distance_miles, distance_km in top_stations:\n",
    "    print(f\"{station_name}: {distance_miles} miles ({distance_km} km)\")"
   ]
  }
 ],
 "metadata": {
  "kernelspec": {
   "display_name": "Python 3 (ipykernel)",
   "language": "python",
   "name": "python3"
  },
  "language_info": {
   "codemirror_mode": {
    "name": "ipython",
    "version": 3
   },
   "file_extension": ".py",
   "mimetype": "text/x-python",
   "name": "python",
   "nbconvert_exporter": "python",
   "pygments_lexer": "ipython3",
   "version": "3.9.15"
  }
 },
 "nbformat": 4,
 "nbformat_minor": 5
}
