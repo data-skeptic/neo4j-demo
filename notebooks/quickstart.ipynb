{
 "cells": [
  {
   "cell_type": "code",
   "execution_count": 1,
   "id": "5c790c11",
   "metadata": {},
   "outputs": [],
   "source": [
    "from neo4j import GraphDatabase\n",
    "\n",
    "uri = \"bolt://localhost:7687\"\n",
    "username = \"neo4j\"\n",
    "password = \"testpassword\"\n",
    "\n",
    "driver = GraphDatabase.driver(uri, auth=(username, password))\n",
    "\n",
    "with driver.session() as session:\n",
    "    result = session.run(\"MATCH (n) RETURN n\")\n",
    "    for record in result:\n",
    "        print(record)\n",
    "driver.close()"
   ]
  },
  {
   "cell_type": "markdown",
   "id": "a1944398",
   "metadata": {},
   "source": [
    "# Menu\n",
    "\n",
    "1) <a href=\"#insert\">Insert ad-hoc data</a>\n",
    "2) <a href=\"#csv\">Load a CSV of data</a>\n",
    "3) <a href=\"#query\">Query database</a>"
   ]
  },
  {
   "cell_type": "markdown",
   "id": "35c6a4a3",
   "metadata": {},
   "source": [
    "<a name=\"insert\" />\n",
    "\n",
    "# Insert ad-hoc data"
   ]
  },
  {
   "cell_type": "code",
   "execution_count": 4,
   "id": "24005759",
   "metadata": {},
   "outputs": [
    {
     "name": "stdout",
     "output_type": "stream",
     "text": [
      "Alice is friends with Bob\n",
      "Bob is friends with Charlie\n"
     ]
    }
   ],
   "source": [
    "from neo4j import GraphDatabase\n",
    "\n",
    "# Connect to the Neo4j instance\n",
    "uri = \"bolt://localhost:7687\"\n",
    "username = \"neo4j\"\n",
    "password = \"testpassword\"\n",
    "\n",
    "driver = GraphDatabase.driver(uri, auth=(username, password))\n",
    "\n",
    "# Function to add data\n",
    "def add_data(session):\n",
    "    session.run(\n",
    "        \"\"\"\n",
    "        CREATE (a:Person {name: 'Alice', age: 30})\n",
    "        CREATE (b:Person {name: 'Bob', age: 25})\n",
    "        CREATE (c:Person {name: 'Charlie', age: 35})\n",
    "        CREATE (a)-[:FRIENDS_WITH]->(b)\n",
    "        CREATE (b)-[:FRIENDS_WITH]->(c)\n",
    "        \"\"\"\n",
    "    )\n",
    "\n",
    "# Function to query data\n",
    "def query_data(session):\n",
    "    result = session.run(\n",
    "        \"\"\"\n",
    "        MATCH (p:Person)-[:FRIENDS_WITH]->(friend)\n",
    "        RETURN p.name AS person, friend.name AS friend\n",
    "        \"\"\"\n",
    "    )\n",
    "    for record in result:\n",
    "        print(f\"{record['person']} is friends with {record['friend']}\")\n",
    "\n",
    "# Run the add and query functions in a session\n",
    "with driver.session() as session:\n",
    "    add_data(session)\n",
    "    query_data(session)\n",
    "\n",
    "# Close the driver connection\n",
    "driver.close()\n"
   ]
  },
  {
   "cell_type": "markdown",
   "id": "f88c8c69",
   "metadata": {},
   "source": [
    "<a name=\"csv\" />\n",
    "\n",
    "# Load a CSV of data"
   ]
  },
  {
   "cell_type": "markdown",
   "id": "63173663",
   "metadata": {},
   "source": [
    "`nodes.csv`\n",
    "```\n",
    "id,name,age\n",
    "1,Alice,30\n",
    "2,Bob,25\n",
    "3,Charlie,35\n",
    "```"
   ]
  },
  {
   "cell_type": "markdown",
   "id": "ecce9ebe",
   "metadata": {},
   "source": [
    "`relationships.csv`\n",
    "```\n",
    "start_id,end_id,relationship\n",
    "1,2,FRIENDS_WITH\n",
    "2,3,FRIENDS_WITH\n",
    "```"
   ]
  },
  {
   "cell_type": "code",
   "execution_count": null,
   "id": "2e7a8be5",
   "metadata": {},
   "outputs": [],
   "source": [
    "LOAD CSV WITH HEADERS FROM 'file:///nodes.csv' AS row\n",
    "CREATE (:Person {id: toInteger(row.id), name: row.name, age: toInteger(row.age)});"
   ]
  },
  {
   "cell_type": "code",
   "execution_count": null,
   "id": "71d8ce09",
   "metadata": {},
   "outputs": [],
   "source": [
    "LOAD CSV WITH HEADERS FROM 'file:///relationships.csv' AS row\n",
    "MATCH (a:Person {id: toInteger(row.start_id)}), (b:Person {id: toInteger(row.end_id)})\n",
    "CREATE (a)-[:FRIENDS_WITH]->(b);"
   ]
  },
  {
   "cell_type": "markdown",
   "id": "83a93e63",
   "metadata": {},
   "source": [
    "<a name=\"query\" />\n",
    "\n",
    "# Query database"
   ]
  }
 ],
 "metadata": {
  "kernelspec": {
   "display_name": "Python 3 (ipykernel)",
   "language": "python",
   "name": "python3"
  },
  "language_info": {
   "codemirror_mode": {
    "name": "ipython",
    "version": 3
   },
   "file_extension": ".py",
   "mimetype": "text/x-python",
   "name": "python",
   "nbconvert_exporter": "python",
   "pygments_lexer": "ipython3",
   "version": "3.10.8"
  }
 },
 "nbformat": 4,
 "nbformat_minor": 5
}
